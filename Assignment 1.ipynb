{
 "cells": [
  {
   "cell_type": "markdown",
   "id": "2ad476bd",
   "metadata": {},
   "source": [
    "Q1. Create one variable containing following type of data:\n",
    "(i) string\n",
    "(ii) list\n",
    "(iii) float\n",
    "(iv) tuple"
   ]
  },
  {
   "cell_type": "code",
   "execution_count": 3,
   "id": "2cb2011d",
   "metadata": {},
   "outputs": [],
   "source": [
    "a = \"swapna\"\n",
    "b = [1,2,\"rana\",10.0]\n",
    "c = 9.8\n",
    "d = (45,90,3,56)"
   ]
  },
  {
   "cell_type": "code",
   "execution_count": 5,
   "id": "b7949b26",
   "metadata": {},
   "outputs": [
    {
     "name": "stdout",
     "output_type": "stream",
     "text": [
      "<class 'str'> <class 'list'> <class 'float'> <class 'tuple'>\n"
     ]
    }
   ],
   "source": [
    "print(type(a),type(b),type(c),type(d))"
   ]
  },
  {
   "cell_type": "markdown",
   "id": "4d12f656",
   "metadata": {},
   "source": [
    "Q2. Given are some following variables containing data:\n",
    "(i) var1 = ‘ ‘\n",
    "(ii) var2 = ‘[ DS , ML , Python]’\n",
    "(iii) var3 = [ ‘DS’ , ’ML’ , ‘Python’ ]\n",
    "(iv) var4 = 1.\n",
    "What will be the data type of the above given variable."
   ]
  },
  {
   "cell_type": "code",
   "execution_count": 7,
   "id": "042c0ce4",
   "metadata": {},
   "outputs": [],
   "source": [
    "var1 = ''\n",
    "var2 = '[DS , ML , Python]'\n",
    "var3 = ['DS','ML','Python']\n",
    "var4 = 1"
   ]
  },
  {
   "cell_type": "code",
   "execution_count": 8,
   "id": "6836bde5",
   "metadata": {},
   "outputs": [
    {
     "name": "stdout",
     "output_type": "stream",
     "text": [
      "<class 'str'> <class 'str'> <class 'list'> <class 'int'>\n"
     ]
    }
   ],
   "source": [
    "print(type(var1),type(var2),type(var3),type(var4))"
   ]
  },
  {
   "cell_type": "markdown",
   "id": "b365f0fc",
   "metadata": {},
   "source": [
    "Q3. Explain the use of the following operators using an example:\n",
    "(i) /\n",
    "(ii) %\n",
    "(iii) //\n",
    "(iv) **"
   ]
  },
  {
   "cell_type": "markdown",
   "id": "cc1fbaaf",
   "metadata": {},
   "source": [
    "(i) / (Division Operator):\n",
    "The division operator / performs division and returns the quotient as a floating-point number.\n",
    "\n",
    "Example:\n",
    "x = 10\n",
    "y = 3\n",
    "\n",
    "result = x / y\n",
    "print(result)  # Output: 3.3333333333333335\n",
    "\n",
    "In this example, x / y divides the value of x (10) by the value of y (3) and returns the result as a floating-point number.\n",
    "\n",
    "(ii) % (Modulo Operator):\n",
    "The modulo operator % calculates the remainder of the division between two numbers.\n",
    "\n",
    "Example:\n",
    "x = 10\n",
    "y = 3\n",
    "\n",
    "result = x % y\n",
    "print(result)  # Output: 1\n",
    "\n",
    "In this example, x % y calculates the remainder when x (10) is divided by y (3) and returns the result (1).\n",
    "\n",
    "(iii) // (Floor Division Operator):\n",
    "The floor division operator // performs division and returns the quotient as an integer, discarding any decimal places.\n",
    "\n",
    "Example:\n",
    "x = 10\n",
    "y = 3\n",
    "\n",
    "result = x // y\n",
    "print(result)  # Output: 3\n",
    "\n",
    "In this example, x // y performs floor division between x (10) and y (3) and returns the quotient (3) without any decimal places.\n",
    "\n",
    "(iv) ** (Exponentiation Operator):\n",
    "The exponentiation operator ** raises the left operand to the power of the right operand.\n",
    "\n",
    "Example:\n",
    "x = 2\n",
    "y = 3\n",
    "\n",
    "result = x ** y\n",
    "print(result)  # Output: 8\n",
    "In this example, x ** y raises x (2) to the power of y (3) and returns the result (8)."
   ]
  },
  {
   "cell_type": "markdown",
   "id": "01b30a22",
   "metadata": {},
   "source": [
    "Q4. Create a list of length 10 of your choice containing multiple types of data. Using for loop print the\n",
    "element and its data type."
   ]
  },
  {
   "cell_type": "code",
   "execution_count": 10,
   "id": "9a13f644",
   "metadata": {},
   "outputs": [
    {
     "name": "stdout",
     "output_type": "stream",
     "text": [
      "The data type of  1 is  <class 'int'>\n",
      "The data type of  2 is  <class 'int'>\n",
      "The data type of  rana is  <class 'str'>\n",
      "The data type of  10.0 is  <class 'float'>\n",
      "The data type of  (2+6j) is  <class 'complex'>\n",
      "The data type of  True is  <class 'bool'>\n",
      "The data type of  (5, 6) is  <class 'tuple'>\n",
      "The data type of  12 is  <class 'str'>\n",
      "The data type of  [8, 7] is  <class 'list'>\n",
      "The data type of  3 is  <class 'int'>\n"
     ]
    }
   ],
   "source": [
    "a = [1,2,\"rana\",10.0,2+6j,True,(5,6),'12',[8,7],0b0011]\n",
    "\n",
    "for i in a:\n",
    "    print(\"The data type of \",i,\"is \",type(i))"
   ]
  },
  {
   "cell_type": "markdown",
   "id": "cd286cea",
   "metadata": {},
   "source": [
    "Q5. Using a while loop, verify if the number A is purely divisible by number B and if so then how many\n",
    "times it can be divisible."
   ]
  },
  {
   "cell_type": "code",
   "execution_count": 15,
   "id": "9ca1b33f",
   "metadata": {},
   "outputs": [
    {
     "name": "stdout",
     "output_type": "stream",
     "text": [
      "The number is purely divisible 2 times.\n"
     ]
    }
   ],
   "source": [
    "A = 100\n",
    "B = 5\n",
    "count = 0\n",
    "\n",
    "while A % B == 0:\n",
    "    count += 1\n",
    "    A //= B\n",
    "    \n",
    "print(\"The number is purely divisible\", count, \"times.\")"
   ]
  },
  {
   "cell_type": "markdown",
   "id": "67f9eb1b",
   "metadata": {},
   "source": [
    "Q6. Create a list containing 25 int type data. Using for loop and if-else condition print if the element is\n",
    "divisible by 3 or not."
   ]
  },
  {
   "cell_type": "code",
   "execution_count": 7,
   "id": "1499a649",
   "metadata": {},
   "outputs": [
    {
     "name": "stdout",
     "output_type": "stream",
     "text": [
      "17 is not divisible by 3.\n",
      "9 is divisible by 3.\n",
      "5 is not divisible by 3.\n",
      "12 is divisible by 3.\n",
      "31 is not divisible by 3.\n",
      "8 is not divisible by 3.\n",
      "27 is divisible by 3.\n",
      "14 is not divisible by 3.\n",
      "22 is not divisible by 3.\n",
      "30 is divisible by 3.\n",
      "11 is not divisible by 3.\n",
      "3 is divisible by 3.\n",
      "20 is not divisible by 3.\n",
      "16 is not divisible by 3.\n",
      "24 is divisible by 3.\n",
      "7 is not divisible by 3.\n",
      "19 is not divisible by 3.\n",
      "28 is not divisible by 3.\n",
      "2 is not divisible by 3.\n",
      "10 is not divisible by 3.\n",
      "6 is divisible by 3.\n",
      "21 is divisible by 3.\n",
      "13 is not divisible by 3.\n",
      "18 is divisible by 3.\n",
      "15 is divisible by 3.\n"
     ]
    }
   ],
   "source": [
    "j = [17, 9, 5, 12, 31, 8, 27, 14, 22, 30, 11, 3, 20, 16, 24, 7, 19, 28, 2, 10, 6, 21, 13, 18, 15]\n",
    "\n",
    "for k in j:\n",
    "    if k % 3 == 0:\n",
    "        print(str(k) + \" is divisible by 3.\")\n",
    "    else:\n",
    "        print(str(k) + \" is not divisible by 3.\")"
   ]
  },
  {
   "cell_type": "markdown",
   "id": "e91c6117",
   "metadata": {},
   "source": [
    "Q7. What do you understand about mutable and immutable data types? Give examples for both showing\n",
    "this property."
   ]
  },
  {
   "cell_type": "markdown",
   "id": "b33ecb45",
   "metadata": {},
   "source": [
    "In programming, mutable and immutable are two fundamental concepts related to the mutability or immutability of data types.\n",
    "\n",
    "Immutable data types are those whose values cannot be modified after they are created. When an operation is performed on an immutable data type, a new object is created with the modified value, while the original object remains unchanged.\n",
    "\n",
    "Examples of immutable data types in Python include:\n",
    "\n",
    "1. Integer: An integer value cannot be changed once created. For example:\n",
    "x = 5\n",
    "x += 2  # Creates a new integer object with the value 7\n",
    "print(x)  # Output: 7\n",
    "\n",
    "2. String: Strings are also immutable in Python. Any modification to a string results in the creation of a new string object.\n",
    "s = \"Hello\"\n",
    "s += \" World\"  # Creates a new string object with the value \"Hello World\"\n",
    "print(s)  # Output: Hello World\n",
    "\n",
    "Mutable data types, on the other hand, can be modified after they are created. Operations on mutable data types directly modify the existing object without creating a new object.\n",
    "\n",
    "Examples of mutable data types in Python include:\n",
    "\n",
    "1. List: Lists are mutable, allowing for the addition, removal, or modification of elements.\n",
    "my_list = [1, 2, 3]\n",
    "my_list.append(4)  # Modifies the list by adding a new element\n",
    "print(my_list)  # Output: [1, 2, 3, 4]\n",
    "\n",
    "my_list[1] = 5  # Modifies the list by changing the value at index 1\n",
    "print(my_list)  # Output: [1, 5, 3, 4]\n",
    "\n",
    "2. Dictionary: Dictionaries are mutable, enabling the addition, removal, or modification of key-value pairs.\n",
    "my_dict = {\"name\": \"John\", \"age\": 30}\n",
    "my_dict[\"name\"] = \"Jane\"  # Modifies the value associated with the key \"name\"\n",
    "print(my_dict)  # Output: {'name': 'Jane', 'age': 30}\n",
    "\n",
    "my_dict[\"city\"] = \"New York\"  # Adds a new key-value pair to the dictionary\n",
    "print(my_dict)  # Output: {'name': 'Jane', 'age': 30, 'city': 'New York'}\n",
    "\n",
    "Understanding the mutability or immutability of data types is crucial as it affects how data is stored, accessed, and modified in a program. Immutable data types provide certain advantages such as being safer for concurrent programming and hashability, while mutable data types offer flexibility in updating values in place."
   ]
  }
 ],
 "metadata": {
  "kernelspec": {
   "display_name": "Python 3 (ipykernel)",
   "language": "python",
   "name": "python3"
  },
  "language_info": {
   "codemirror_mode": {
    "name": "ipython",
    "version": 3
   },
   "file_extension": ".py",
   "mimetype": "text/x-python",
   "name": "python",
   "nbconvert_exporter": "python",
   "pygments_lexer": "ipython3",
   "version": "3.9.12"
  }
 },
 "nbformat": 4,
 "nbformat_minor": 5
}
